{
 "cells": [
  {
   "cell_type": "markdown",
   "metadata": {},
   "source": [
    "# Solar Panel Exploratory Analysis - Chinmay Gharpure"
   ]
  },
  {
   "cell_type": "code",
   "execution_count": 15,
   "metadata": {
    "collapsed": true
   },
   "outputs": [],
   "source": [
    "#This code is to import the relevant Python libraries for the data analysis and visualizations.\n",
    "import numpy as np\n",
    "import pandas as pd\n",
    "import matplotlib.pyplot as plt \n",
    "import datetime"
   ]
  },
  {
   "cell_type": "markdown",
   "metadata": {},
   "source": [
    "## Overview of the Data\n",
    "\n",
    "The data consists of energy measurements(kWh) at each hour during each day of 2017. There are energy measurements for the solar generation, home load, battery state of charge, and home net load. These quantities are measured by meters labelled 1 through 4, respectively.   "
   ]
  },
  {
   "cell_type": "markdown",
   "metadata": {},
   "source": [
    "## Step 1 - Reading and Labelling the Data Set with the Pandas Library"
   ]
  },
  {
   "cell_type": "code",
   "execution_count": 14,
   "metadata": {},
   "outputs": [
    {
     "name": "stdout",
     "output_type": "stream",
     "text": [
      "      Hour   Date and Time  Solar Generation  Home Load  \\\n",
      "8750  8750  12/31/17 14:00          0.997462   1.142506   \n",
      "8751  8751  12/31/17 15:00          1.070619   0.670382   \n",
      "8752  8752  12/31/17 16:00          1.278346   0.148886   \n",
      "8753  8753  12/31/17 17:00          1.586794   0.000000   \n",
      "8754  8754  12/31/17 18:00          1.735477   0.000000   \n",
      "8755  8755  12/31/17 19:00          1.653825   0.000000   \n",
      "8756  8756  12/31/17 20:00          1.576369   0.000000   \n",
      "8757  8757  12/31/17 21:00          1.442547   0.000000   \n",
      "8758  8758  12/31/17 22:00          1.213622   0.000000   \n",
      "8759  8759  12/31/17 23:00          0.976102   0.000000   \n",
      "\n",
      "      Battery State of Charge  Home Net Load  \n",
      "8750                 7.423545      -0.116482  \n",
      "8751                 7.423545       0.416996  \n",
      "8752                 7.423545       1.133182  \n",
      "8753                 7.423545       1.586794  \n",
      "8754                 7.423545       1.735477  \n",
      "8755                 7.423545       1.653825  \n",
      "8756                 7.423545       1.576369  \n",
      "8757                 7.423545       1.442547  \n",
      "8758                 7.423545       1.213622  \n",
      "8759                 7.423545       0.976102  \n"
     ]
    }
   ],
   "source": [
    "solarData = pd.read_csv(\"/Users/shriramgharpure/Downloads/Sunrun_take_home.csv\")\n",
    "solarData.columns = [\"Hour\", \"Date and Time\", \"Solar Generation\", \"Home Load\", \"Battery State of Charge\", \"Home Net Load\"]\n",
    "print(solarData.tail(10))"
   ]
  },
  {
   "cell_type": "markdown",
   "metadata": {},
   "source": [
    "## Step 2 - Trends, Visualizations and Statistics of the Data"
   ]
  },
  {
   "cell_type": "markdown",
   "metadata": {},
   "source": [
    "\n",
    "Every day, the home load is nonzero from 7 am - 4 pm. For 290 days in the year, the home load is nonzero during 6 am and 5 pm. For 159 days in the year, the home load is nonzero during 5 am and 6 pm.\n",
    "\n"
   ]
  },
  {
   "cell_type": "code",
   "execution_count": 13,
   "metadata": {},
   "outputs": [
    {
     "data": {
      "image/png": "[encoded data removed]",
      "text/plain": [
       "<matplotlib.figure.Figure at 0x115f02ef0>"
      ]
     },
     "metadata": {},
     "output_type": "display_data"
    }
   ],
   "source": [
    "#Code for Trend 1\n",
    "#Converts hour into conventional time(ex: 7 am, 2 pm) during a given day\n",
    "timeClassification = [0] * 24\n",
    "weekDayArray = [0] * 7\n",
    "hourColumn = solarData[\"Hour\"]\n",
    "for i in range(len(hourColumn)):\n",
    "    if(solarData[\"Home Load\"][i] > 0):\n",
    "        temp = i % 24\n",
    "        timeClassification[temp] = timeClassification[temp] + 1\n",
    "\n",
    "#Generating Histogram 1 using Matplotlib\n",
    "plt.bar(np.arange(24), timeClassification)\n",
    "plt.xlabel(\"Hour of the Day(0 - 12 am and 23 - 11 pm)\")\n",
    "plt.ylabel(\"Number of Days with Nonzero Homeload\")\n",
    "plt.title(\"Time vs. Frequency of Nonzero Homeload\")\n",
    "plt.show()\n",
    "\n",
    "\n",
    "\n",
    "        \n",
    "\n",
    "\n",
    "        \n",
    "        \n"
   ]
  },
  {
   "cell_type": "markdown",
   "metadata": {},
   "source": [
    "There is a negative net homeload for the large majority of the days from 12 pm to 3 pm. There is no negative net homeload for any day of the year between 12 am to 6 am and 5 pm to 11 pm."
   ]
  },
  {
   "cell_type": "code",
   "execution_count": 12,
   "metadata": {},
   "outputs": [
    {
     "data": {
      "image/png": "[encoded data removed]",
      "text/plain": [
       "<matplotlib.figure.Figure at 0x115ce9cf8>"
      ]
     },
     "metadata": {},
     "output_type": "display_data"
    }
   ],
   "source": [
    "hourClassification = [0] * 24\n",
    "for i in range(len(hourColumn)):\n",
    "    if(solarData[\"Home Net Load\"][i] < 0):\n",
    "        temp = i % 24\n",
    "        hourClassification[temp] = hourClassification[temp] + 1\n",
    "plt.bar(np.arange(24), hourClassification)\n",
    "plt.xlabel(\"Hour of the Day(0 - 12 am and 23 - 11 pm)\")\n",
    "plt.ylabel(\"Number of Days with Negative Net Homeload\")\n",
    "plt.title(\"Hour vs. Days with Negative Net Homeload\")\n",
    "plt.show()"
   ]
  },
  {
   "cell_type": "markdown",
   "metadata": {},
   "source": [
    "When the home load is zero, the solar generation and the home net load are equal to each other. A visualization of this fact is the data fits the line y = x. \n"
   ]
  },
  {
   "cell_type": "code",
   "execution_count": 11,
   "metadata": {},
   "outputs": [
    {
     "data": {
      "image/png": "[encoded data removed]",
      "text/plain": [
       "<matplotlib.figure.Figure at 0x112479588>"
      ]
     },
     "metadata": {},
     "output_type": "display_data"
    }
   ],
   "source": [
    "#Part 1 - Getting the relevant points \n",
    "homeLoad = solarData[\"Home Load\"]\n",
    "batterySOC = solarData[\"Battery State of Charge\"]\n",
    "solarGeneration = solarData[\"Solar Generation\"]\n",
    "netLoad = solarData[\"Home Net Load\"]\n",
    "utilCount = 0\n",
    "for k in range(len(homeLoad)):\n",
    "    if(homeLoad[k] == 0 and batterySOC[k] == 0):\n",
    "        utilCount = utilCount + 1\n",
    "netLoadPts = [0] * utilCount\n",
    "generationPts = [0] * utilCount\n",
    "reference = 0\n",
    "#and batterySOC[a] == 0\n",
    "for a in range(len(homeLoad)):\n",
    "    if(homeLoad[a] == 0 and batterySOC[a] == 0):\n",
    "        netLoadPts[reference] = solarGeneration[a]\n",
    "        generationPts[reference] = netLoad[a]\n",
    "        reference = reference + 1\n",
    "\n",
    "#Part 2 - Creating a scatter plot and a regression\n",
    "#Generating a y = x line to compare the scatter plot of the SolarGeneration and NetLoad values\n",
    "dummyX = np.linspace(0.4, 1.4, 11)\n",
    "dummyY = np.linspace(0.4, 1.4, 11)\n",
    "plt.scatter(generationPts, netLoadPts, c='r',marker='+', label=\"scatterPoints\")\n",
    "plt.plot(dummyX, dummyY, label=\"y = x\")\n",
    "plt.xlabel(\"Solar Generation\")\n",
    "plt.ylabel(\"Home Net Load\")\n",
    "plt.title(\"Solar Generation vs. Home Net Load - Zero Homeload\")\n",
    "plt.legend(loc='upper left')\n",
    "plt.show()"
   ]
  },
  {
   "cell_type": "markdown",
   "metadata": {},
   "source": [
    "Interesting Statistic - When the battery state of charge has a constant value of 7.44 or 7.423545, the difference between the solar generation and homeload is close to the home net load value for that given hour. In fact, the average percent error between the two quantities is ~ 2.48%"
   ]
  },
  {
   "cell_type": "code",
   "execution_count": 10,
   "metadata": {},
   "outputs": [
    {
     "name": "stdout",
     "output_type": "stream",
     "text": [
      "The percent error between the difference between solar generation and home load and the net load is 2.47527277824 %\n"
     ]
    }
   ],
   "source": [
    "criteriaCount = 0\n",
    "for d in range(len(homeLoad)):\n",
    "    if((batterySOC[d] == 7.44 or batterySOC[d] == 7.423545458) and not (homeLoad[d] == 0)):\n",
    "        criteriaCount = criteriaCount + 1\n",
    "percentErrors = [0] * criteriaCount\n",
    "criteriaCount = 0\n",
    "for d in range(len(homeLoad)):\n",
    "    if((batterySOC[d] == 7.44 or batterySOC[d] == 7.423545458) and not (homeLoad[d] == 0)):\n",
    "        tempDiff = (solarGeneration[d] - homeLoad[d]) - netLoad[d]\n",
    "        percentError = tempDiff / netLoad[d]\n",
    "        percentErrors[criteriaCount] = percentError\n",
    "        criteriaCount = criteriaCount + 1\n",
    "percentError = (sum(percentErrors) / len(percentErrors)) * 100\n",
    "\n",
    "print(\"The percent error between the difference between solar generation and home load and the net load is\", percentError, \"%\")"
   ]
  },
  {
   "cell_type": "markdown",
   "metadata": {},
   "source": [
    "The battery state of charge is a constant value of 7.44 at the end of the first ~150 days of the year, and 7.42 at the end of the last ~40 days of the year. Starting June 1st, the battery state of charge alternates between a value of 0 and random positive numbers until November 1st. "
   ]
  },
  {
   "cell_type": "code",
   "execution_count": 9,
   "metadata": {},
   "outputs": [
    {
     "data": {
      "image/png": "[encoded data removed]",
      "text/plain": [
       "<matplotlib.figure.Figure at 0x108a20320>"
      ]
     },
     "metadata": {},
     "output_type": "display_data"
    }
   ],
   "source": [
    "batteryState = solarData[\"Battery State of Charge\"]\n",
    "endOfDayMeasurements = [0] * 365\n",
    "count = 0\n",
    "for j in range(len(batteryState)):\n",
    "    if(j % 24 == 0): \n",
    "        endOfDayMeasurements[count] = batteryState[j]\n",
    "        count = count + 1\n",
    "#Basic line plot using Matplotlib   \n",
    "plt.plot(endOfDayMeasurements)\n",
    "plt.xlabel(\"Day in the year\")\n",
    "plt.ylabel(\"Battery State of Charge(in kWh)\")\n",
    "plt.title('Battery State Through the Year')\n",
    "plt.show()\n"
   ]
  },
  {
   "cell_type": "code",
   "execution_count": null,
   "metadata": {
    "collapsed": true
   },
   "outputs": [],
   "source": []
  },
  {
   "cell_type": "markdown",
   "metadata": {},
   "source": [
    " \n",
    "\n",
    "## Maximums and Minimums\n",
    "\n",
    "I wrote some code to convert the formal calendar date to the day of the week using the Python datetime library. 0 corresponds to a Sunday, 1 corresponds to a Monday, so on and so forth.\n",
    "\n",
    "1) The maximum solar generation value occurs on Friday, December 2nd, 2017 at 6:00 pm. This value is 1.7371515. The minimum solar generation value occurs on Thursday, June 23, 2017. This value is 0.403404645.\n",
    "\n",
    "2) The maximum net load value occurs on Friday, December 2nd, 2017 at 6:00 pm. This is the same as the maximum solar generation value. This value is 1.7371515. The minimum net load value occurs on Thursday June 9, 2017. This value is -6.761981132. \n",
    "\n"
   ]
  },
  {
   "cell_type": "code",
   "execution_count": 17,
   "metadata": {},
   "outputs": [
    {
     "name": "stdout",
     "output_type": "stream",
     "text": [
      "12/2/17 18:00 which is a 5\n",
      "6/23/17 2:00 which is a 4\n",
      "1.7371515\n",
      "0.403404645\n",
      "12/2/17 18:00 which is a 5\n",
      "6/9/17 14:00 which is a 4\n",
      "1.7371515\n",
      "-6.761981132\n"
     ]
    }
   ],
   "source": [
    "#Getting the days of the week\n",
    "# 0 - Sunday, 1 - Monday, 2 - Tuesday ... 6 - Saturday\n",
    "weekDayInfo = []\n",
    "counter = 0;\n",
    "dateTime = solarData[\"Date and Time\"]\n",
    "for i in range(len(dateTime)):\n",
    "    temp = 0\n",
    "    for j in range(len(dateTime[i])):\n",
    "        if(dateTime[i][j] == ' '):\n",
    "            temp = dateTime[i][0:j]\n",
    "    formatDate = '-'.join(temp.split('/')[::-1])\n",
    "    splitter = formatDate.split('-')\n",
    "    day = datetime.datetime(int(splitter[0]) + 2000, int(splitter[2]), int(splitter[1]))\n",
    "    weekDay = day.weekday()\n",
    "    weekDayInfo.append(weekDay)\n",
    "\n",
    "\n",
    "solarGeneration = solarData[\"Solar Generation\"]\n",
    "netLoad = solarData[\"Home Net Load\"]\n",
    "dateNTime = solarData[\"Date and Time\"]\n",
    "\n",
    "#Interesting Statistic 1\n",
    "\n",
    "tempMax = max(solarGeneration)\n",
    "tempMin = min(solarGeneration)\n",
    "maxInd = 0\n",
    "minInd = 0\n",
    "for i in range(len(solarGeneration)):\n",
    "    if(solarGeneration[i] == tempMax):\n",
    "        maxInd = i\n",
    "    if(solarGeneration[i] == tempMin):\n",
    "        minInd = i\n",
    "print(dateNTime[maxInd], \"which is a\", weekDayInfo[maxInd])\n",
    "print(dateNTime[minInd], \"which is a\", weekDayInfo[minInd])\n",
    "print(tempMax)\n",
    "print(tempMin)\n",
    "\n",
    "#Interesting Statistic 2\n",
    "tempMax = max(netLoad)\n",
    "tempMin = min(netLoad)\n",
    "maxInd = 0\n",
    "minInd = 0\n",
    "for i in range(len(netLoad)):\n",
    "    if(netLoad[i] == tempMax):\n",
    "        maxInd = i\n",
    "    if(netLoad[i] == tempMin):\n",
    "        minInd = i\n",
    "print(dateNTime[maxInd], \"which is a\", weekDayInfo[maxInd])\n",
    "print(dateNTime[minInd], \"which is a\", weekDayInfo[minInd])\n",
    "print(tempMax)\n",
    "print(tempMin)\n",
    "\n",
    "\n",
    "\n"
   ]
  },
  {
   "cell_type": "code",
   "execution_count": null,
   "metadata": {
    "collapsed": true
   },
   "outputs": [],
   "source": []
  }
 ],
 "metadata": {
  "kernelspec": {
   "display_name": "Python 3",
   "language": "python",
   "name": "python3"
  },
  "language_info": {
   "codemirror_mode": {
    "name": "ipython",
    "version": 3
   },
   "file_extension": ".py",
   "mimetype": "text/x-python",
   "name": "python",
   "nbconvert_exporter": "python",
   "pygments_lexer": "ipython3",
   "version": "3.6.1"
  }
 },
 "nbformat": 4,
 "nbformat_minor": 2
}
